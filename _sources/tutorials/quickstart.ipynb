{
 "cells": [
  {
   "attachments": {},
   "cell_type": "markdown",
   "metadata": {},
   "source": [
    "# Quickstart"
   ]
  },
  {
   "attachments": {},
   "cell_type": "markdown",
   "metadata": {},
   "source": [
    "## `Atoms` Data\n",
    "\n",
    "`Atoms` is the primary data structure for atomistic modeling in `NFFLr`.\n",
    "This represents an atomistic system in the same way as [spglib](https://spglib.readthedocs.io/en/latest/python-spglib.html#crystal-structure-cell):\n",
    "\n",
    "- a $3 \\times 3$ `lattice` matrix\n",
    "- an $N \\times 3$ fractional coordinates array `positions`\n",
    "- an array of `N` atomic `numbers`\n",
    "\n",
    "These variables are stored as PyTorch tensors to facilitate auto-batching, flexible conversion to graph deep learning formats, and automatic differentiation."
   ]
  },
  {
   "cell_type": "code",
   "execution_count": 2,
   "metadata": {},
   "outputs": [
    {
     "data": {
      "text/plain": [
       "Atoms(cell=tensor([[4.1000, 0.0000, 0.0000],\n",
       "        [0.0000, 4.1000, 0.0000],\n",
       "        [0.0000, 0.0000, 4.1000]]), positions=tensor([[0.0000, 0.0000, 0.0000],\n",
       "        [0.5000, 0.5000, 0.5000]]), numbers=tensor([24, 22]), _batch_num_atoms=None)"
      ]
     },
     "execution_count": 2,
     "metadata": {},
     "output_type": "execute_result"
    }
   ],
   "source": [
    "import torch\n",
    "import nfflr\n",
    "\n",
    "cell = 4.1 * torch.eye(3)\n",
    "positions = torch.tensor([[0,0,0], [0.5, 0.5, 0.5]])\n",
    "numbers = torch.tensor([24, 22])\n",
    "atoms = nfflr.Atoms(cell, positions, numbers)\n",
    "atoms"
   ]
  },
  {
   "cell_type": "code",
   "execution_count": 3,
   "metadata": {},
   "outputs": [
    {
     "data": {
      "image/png": "[encoded data removed]",
      "text/plain": [
       "<Figure size 300x300 with 1 Axes>"
      ]
     },
     "metadata": {},
     "output_type": "display_data"
    }
   ],
   "source": [
    "from ase import Atoms as AseAtoms\n",
    "from ase.visualize.plot import plot_atoms\n",
    "\n",
    "import matplotlib.pyplot as plt\n",
    "%matplotlib inline\n",
    "\n",
    "fig, ax = plt.subplots(figsize=(3,3))\n",
    "ase_atoms = AseAtoms(scaled_positions=positions, numbers=numbers, cell=cell)\n",
    "plot_atoms(ase_atoms, ax, radii=0.3, rotation=(\"10x,20y,0z\"), show_unit_cell=2)\n",
    "ax.axis(\"off\");"
   ]
  },
  {
   "attachments": {},
   "cell_type": "markdown",
   "metadata": {},
   "source": [
    "## Models\n",
    "### Common model interface\n",
    "\n",
    "`NFFLr` models are PyTorch modules for modeling properties of atomistic systems.\n",
    "\n",
    "Different modeling approaches use a variety of input representations;\n",
    "`NFFLr` aims to simplify exploratory research by providing a common modeling interface, where all models internally transform `Atoms` inputs to their native input representation, *e.g.* the [DGLGraph](https://docs.dgl.ai/api/python/dgl.DGLGraph.html) structure expected by `ALIGNN`."
   ]
  },
  {
   "cell_type": "code",
   "execution_count": 4,
   "metadata": {},
   "outputs": [
    {
     "name": "stdout",
     "output_type": "stream",
     "text": [
      "warning: could not load CGCNN features for 103\n",
      "Setting it to max atomic number available here, 103\n",
      "warning: could not load CGCNN features for 101\n",
      "Setting it to max atomic number available here, 103\n",
      "warning: could not load CGCNN features for 102\n",
      "Setting it to max atomic number available here, 103\n",
      "tensor(0.4806)\n"
     ]
    },
    {
     "name": "stderr",
     "output_type": "stream",
     "text": [
      "/Users/bld/.pyenv/versions/3.10.9/envs/nfflr/lib/python3.10/site-packages/dgl/backend/pytorch/tensor.py:445: UserWarning: TypedStorage is deprecated. It will be removed in the future and UntypedStorage will be the only storage class. This should only matter to you if you are using storages directly.  To access UntypedStorage directly, use tensor.untyped_storage() instead of tensor.storage()\n",
      "  assert input.numel() == input.storage().size(), (\n"
     ]
    }
   ],
   "source": [
    "cfg = nfflr.models.ALIGNNConfig(alignn_layers=2, gcn_layers=2)\n",
    "alignn_model = nfflr.models.ALIGNN(cfg)\n",
    "with torch.no_grad():\n",
    "    print(alignn_model(atoms))"
   ]
  },
  {
   "attachments": {},
   "cell_type": "markdown",
   "metadata": {},
   "source": [
    "`NFFLr` also transparently converts inputs from common atomistic modeling libraries, such as jarvis and ase.\n",
    "This is an experimental feature that is currently implemented with the [plum multiple dispatch library](https://github.com/beartype/plum#plum-multiple-dispatch-in-python).\n",
    "For example, calling `alignn_model` on an `ase.Atoms` structure automatically converts the data to `nfflr.Atoms` and then to the `ALIGNN` `DGLGraph` format:"
   ]
  },
  {
   "cell_type": "code",
   "execution_count": 5,
   "metadata": {},
   "outputs": [
    {
     "name": "stdout",
     "output_type": "stream",
     "text": [
      "convert\n",
      "tensor(0.4806)\n"
     ]
    }
   ],
   "source": [
    "with torch.no_grad():\n",
    "    print(alignn_model(ase_atoms))"
   ]
  },
  {
   "attachments": {},
   "cell_type": "markdown",
   "metadata": {},
   "source": [
    "### Force field models"
   ]
  },
  {
   "attachments": {},
   "cell_type": "markdown",
   "metadata": {},
   "source": [
    "Enabling the `compute_forces` model configuration field will cause the model to compute both a scalar property prediction\n",
    "and its (negative) gradient with respect to the (cartesian) atomic coordinates - *i.e.* the force components on each atom."
   ]
  },
  {
   "cell_type": "code",
   "execution_count": 6,
   "metadata": {},
   "outputs": [
    {
     "name": "stderr",
     "output_type": "stream",
     "text": [
      "/Users/bld/.pyenv/versions/3.10.9/envs/nfflr/lib/python3.10/site-packages/dgl/backend/pytorch/tensor.py:445: UserWarning: TypedStorage is deprecated. It will be removed in the future and UntypedStorage will be the only storage class. This should only matter to you if you are using storages directly.  To access UntypedStorage directly, use tensor.untyped_storage() instead of tensor.storage()\n",
      "  assert input.numel() == input.storage().size(), (\n"
     ]
    },
    {
     "data": {
      "text/plain": [
       "{'total_energy': tensor(-0.0822, grad_fn=<SqueezeBackward0>),\n",
       " 'forces': tensor([[-2.9802e-06, -1.2040e-05,  1.7881e-07],\n",
       "         [ 6.3032e-06,  9.8795e-06,  7.4506e-08]], grad_fn=<MulBackward0>),\n",
       " 'stress': tensor([[[ 3.8823e+01,  6.1393e-06, -4.8280e-06],\n",
       "          [ 6.3181e-06,  3.8823e+01,  3.4571e-06],\n",
       "          [-5.0068e-06,  4.1127e-06,  3.8823e+01]]],\n",
       "        grad_fn=<SegmentReduceBackward>)}"
      ]
     },
     "execution_count": 6,
     "metadata": {},
     "output_type": "execute_result"
    }
   ],
   "source": [
    "cfg = nfflr.models.ALIGNNConfig(\n",
    "    alignn_layers=2, \n",
    "    gcn_layers=2, \n",
    "    compute_forces=True\n",
    ")\n",
    "alignn_model = nfflr.models.ALIGNN(cfg)\n",
    "alignn_model(atoms)"
   ]
  },
  {
   "attachments": {},
   "cell_type": "markdown",
   "metadata": {},
   "source": [
    "### input representations\n",
    "`NFFLr` also allows to directly provide inputs to models in the native input representation expected by the model.\n",
    "This facilitates efficient precomputation and caching during training.\n",
    "For example, `ALIGNN` requires `DGLGraph` inputs with node features `atomic_number` and edge features `r` (the bond vectors pointing from atoms to their neighbors)."
   ]
  },
  {
   "cell_type": "code",
   "execution_count": 8,
   "metadata": {},
   "outputs": [
    {
     "data": {
      "text/plain": [
       "Graph(num_nodes=2, num_edges=52,\n",
       "      ndata_schemes={'Xfrac': Scheme(shape=(3,), dtype=torch.float32), 'coord': Scheme(shape=(3,), dtype=torch.float32), 'atomic_number': Scheme(shape=(), dtype=torch.int32)}\n",
       "      edata_schemes={'r': Scheme(shape=(3,), dtype=torch.float32)})"
      ]
     },
     "execution_count": 8,
     "metadata": {},
     "output_type": "execute_result"
    }
   ],
   "source": [
    "from nfflr.data.graph import periodic_radius_graph\n",
    "g = periodic_radius_graph(atoms, r=6)\n",
    "g"
   ]
  },
  {
   "cell_type": "code",
   "execution_count": 9,
   "metadata": {},
   "outputs": [
    {
     "name": "stderr",
     "output_type": "stream",
     "text": [
      "/Users/bld/.pyenv/versions/3.10.9/envs/nfflr/lib/python3.10/site-packages/dgl/backend/pytorch/tensor.py:445: UserWarning: TypedStorage is deprecated. It will be removed in the future and UntypedStorage will be the only storage class. This should only matter to you if you are using storages directly.  To access UntypedStorage directly, use tensor.untyped_storage() instead of tensor.storage()\n",
      "  assert input.numel() == input.storage().size(), (\n"
     ]
    },
    {
     "data": {
      "text/plain": [
       "{'total_energy': tensor(-0.1124, grad_fn=<SqueezeBackward0>),\n",
       " 'forces': tensor([[ 3.1292e-06, -9.0003e-06,  5.1253e-06],\n",
       "         [-3.0398e-06,  8.8811e-06, -5.0673e-06]], grad_fn=<MulBackward0>),\n",
       " 'stress': tensor([[[-1.0395e+01,  2.8610e-06,  2.6226e-06],\n",
       "          [ 2.8610e-06, -1.0395e+01, -1.1325e-06],\n",
       "          [ 2.6226e-06, -1.1325e-06, -1.0395e+01]]],\n",
       "        grad_fn=<SegmentReduceBackward>)}"
      ]
     },
     "execution_count": 9,
     "metadata": {},
     "output_type": "execute_result"
    }
   ],
   "source": [
    "alignn_model(g)"
   ]
  },
  {
   "attachments": {},
   "cell_type": "markdown",
   "metadata": {},
   "source": [
    "## Training utilities\n",
    "### `AtomsDataset`\n",
    "NFFLr makes it easy to load data and transform it into various formats.\n",
    "\n",
    "The primary ways of interacting with data are `Atoms` and `AtomsDataset`,\n",
    "which is a [PyTorch DataSet](https://pytorch.org/docs/stable/data.html) that returns `Atoms` instances.\n",
    "The most convenient way to get started is with a [named Jarvis dataset](https://jarvis-tools.readthedocs.io/en/master/databases.html):"
   ]
  },
  {
   "cell_type": "code",
   "execution_count": 10,
   "metadata": {},
   "outputs": [
    {
     "name": "stdout",
     "output_type": "stream",
     "text": [
      "dataset_name='dft_3d'\n",
      "Obtaining 3D dataset 76k ...\n",
      "Reference:https://www.nature.com/articles/s41524-020-00440-1\n",
      "Other versions:https://doi.org/10.6084/m9.figshare.6815699\n",
      "Loading the zipfile...\n",
      "Loading completed.\n"
     ]
    }
   ],
   "source": [
    "dataset = nfflr.AtomsDataset(\"dft_3d\", target=\"formation_energy_peratom\")"
   ]
  },
  {
   "attachments": {},
   "cell_type": "markdown",
   "metadata": {},
   "source": [
    "The dataset yields a tuple of an `Atoms` instance and the target value, *e.g.,* `target=\"formation_energy_peratom\"`:"
   ]
  },
  {
   "cell_type": "code",
   "execution_count": 12,
   "metadata": {},
   "outputs": [
    {
     "name": "stdout",
     "output_type": "stream",
     "text": [
      "atoms.cell=tensor([[3.5669, 0.0000, -0.0000],\n",
      "        [0.0000, 3.5669, -0.0000],\n",
      "        [-0.0000, -0.0000, 9.3971]])\n",
      "atoms.positions=tensor([[0.7500, 0.7500, 0.7849],\n",
      "        [0.2500, 0.2500, 0.2151],\n",
      "        [0.2500, 0.7500, 0.5000],\n",
      "        [0.7500, 0.2500, 0.5000],\n",
      "        [0.2500, 0.7500, 0.0000],\n",
      "        [0.7500, 0.2500, 0.0000],\n",
      "        [0.7500, 0.7500, 0.3075],\n",
      "        [0.2500, 0.2500, 0.6925]])\n",
      "atoms.numbers=tensor([22, 22, 29, 29, 14, 14, 33, 33], dtype=torch.int32)\n",
      "target=tensor(-0.4276)\n"
     ]
    }
   ],
   "source": [
    "atoms, target = dataset[0]\n",
    "print(f\"{atoms.cell=}\")\n",
    "print(f\"{atoms.positions=}\")\n",
    "print(f\"{atoms.numbers=}\")\n",
    "print(f\"{target=}\")"
   ]
  },
  {
   "attachments": {},
   "cell_type": "markdown",
   "metadata": {},
   "source": [
    "Internally, `AtomsDataset` uses a [pandas dataframe](https://pandas.pydata.org/docs/user_guide/dsintro.html#dataframe) to store the datasets, so any key in the jarvis dataset is a valid `target`.\n",
    "For example, `dft_3d` contains a large number of target properties, including some non-scalar quantities:"
   ]
  },
  {
   "cell_type": "code",
   "execution_count": 13,
   "metadata": {},
   "outputs": [
    {
     "data": {
      "text/html": [
       "<div>\n",
       "<style scoped>\n",
       "    .dataframe tbody tr th:only-of-type {\n",
       "        vertical-align: middle;\n",
       "    }\n",
       "\n",
       "    .dataframe tbody tr th {\n",
       "        vertical-align: top;\n",
       "    }\n",
       "\n",
       "    .dataframe thead th {\n",
       "        text-align: right;\n",
       "    }\n",
       "</style>\n",
       "<table border=\"1\" class=\"dataframe\">\n",
       "  <thead>\n",
       "    <tr style=\"text-align: right;\">\n",
       "      <th></th>\n",
       "      <th>jid</th>\n",
       "      <th>formula</th>\n",
       "      <th>formation_energy_peratom</th>\n",
       "      <th>optb88vdw_bandgap</th>\n",
       "      <th>elastic_tensor</th>\n",
       "    </tr>\n",
       "  </thead>\n",
       "  <tbody>\n",
       "    <tr>\n",
       "      <th>0</th>\n",
       "      <td>JVASP-90856</td>\n",
       "      <td>TiCuSiAs</td>\n",
       "      <td>-0.42762</td>\n",
       "      <td>0.000</td>\n",
       "      <td>na</td>\n",
       "    </tr>\n",
       "    <tr>\n",
       "      <th>1</th>\n",
       "      <td>JVASP-86097</td>\n",
       "      <td>DyB6</td>\n",
       "      <td>-0.41596</td>\n",
       "      <td>0.000</td>\n",
       "      <td>na</td>\n",
       "    </tr>\n",
       "    <tr>\n",
       "      <th>2</th>\n",
       "      <td>JVASP-64906</td>\n",
       "      <td>Be2OsRu</td>\n",
       "      <td>0.04847</td>\n",
       "      <td>0.000</td>\n",
       "      <td>na</td>\n",
       "    </tr>\n",
       "    <tr>\n",
       "      <th>3</th>\n",
       "      <td>JVASP-98225</td>\n",
       "      <td>KBi</td>\n",
       "      <td>-0.44140</td>\n",
       "      <td>0.472</td>\n",
       "      <td>na</td>\n",
       "    </tr>\n",
       "    <tr>\n",
       "      <th>4</th>\n",
       "      <td>JVASP-10</td>\n",
       "      <td>VSe2</td>\n",
       "      <td>-0.71026</td>\n",
       "      <td>0.000</td>\n",
       "      <td>[[136.4, 27.8, 17.5, 0.0, -5.5, 0.0], [27.8, 1...</td>\n",
       "    </tr>\n",
       "  </tbody>\n",
       "</table>\n",
       "</div>"
      ],
      "text/plain": [
       "           jid   formula  formation_energy_peratom  optb88vdw_bandgap  \\\n",
       "0  JVASP-90856  TiCuSiAs                  -0.42762              0.000   \n",
       "1  JVASP-86097      DyB6                  -0.41596              0.000   \n",
       "2  JVASP-64906   Be2OsRu                   0.04847              0.000   \n",
       "3  JVASP-98225       KBi                  -0.44140              0.472   \n",
       "4     JVASP-10      VSe2                  -0.71026              0.000   \n",
       "\n",
       "                                      elastic_tensor  \n",
       "0                                                 na  \n",
       "1                                                 na  \n",
       "2                                                 na  \n",
       "3                                                 na  \n",
       "4  [[136.4, 27.8, 17.5, 0.0, -5.5, 0.0], [27.8, 1...  "
      ]
     },
     "execution_count": 13,
     "metadata": {},
     "output_type": "execute_result"
    }
   ],
   "source": [
    "selected_cols = (\"jid\", \"formula\", \"formation_energy_peratom\", \"optb88vdw_bandgap\", \"elastic_tensor\")\n",
    "dataset.df.loc[:,selected_cols].head()"
   ]
  },
  {
   "attachments": {},
   "cell_type": "markdown",
   "metadata": {},
   "source": [
    "We can change the target column, but missing values currently need to be handled manually."
   ]
  },
  {
   "cell_type": "code",
   "execution_count": 14,
   "metadata": {},
   "outputs": [
    {
     "data": {
      "text/plain": [
       "tensor([[136.4000,  27.8000,  17.5000,   0.0000,  -5.5000,   0.0000],\n",
       "        [ 27.8000, 136.4000,  17.5000,   0.0000,   5.5000,   0.0000],\n",
       "        [ 17.5000,  17.5000,  40.7000,   0.0000,   0.0000,   0.0000],\n",
       "        [  0.0000,   0.0000,   0.0000,  54.3000,   0.0000,  -5.5000],\n",
       "        [ -5.5000,   5.5000,   0.0000,   0.0000,  13.7000,   0.0000],\n",
       "        [  0.0000,   0.0000,   0.0000,  -5.5000,   0.0000,  13.7000]])"
      ]
     },
     "execution_count": 14,
     "metadata": {},
     "output_type": "execute_result"
    }
   ],
   "source": [
    "dataset.target = \"elastic_tensor\"\n",
    "atoms, elastic_tensor = dataset[4]\n",
    "elastic_tensor"
   ]
  },
  {
   "attachments": {},
   "cell_type": "markdown",
   "metadata": {},
   "source": [
    "## Force field datasets\n",
    "\n",
    "Force field datasets like `mlearn`, `alignn_ff_db`, and `m3gnet` have a special target key `target=\"energy_and_forces\"` that configure `AtomsDataset` to return a dictionary of target values containing the total energy of the atomic configuration, the forces, and the stresses if they are available."
   ]
  },
  {
   "cell_type": "code",
   "execution_count": 16,
   "metadata": {},
   "outputs": [
    {
     "name": "stdout",
     "output_type": "stream",
     "text": [
      "dataset_name='mlearn'\n",
      "Obtaining mlearn dataset 1730...\n",
      "Reference:https://github.com/materialsvirtuallab/mlearn\n",
      "Loading the zipfile...\n",
      "Loading completed.\n"
     ]
    },
    {
     "data": {
      "text/plain": [
       "{'energy': tensor(-64656.0625),\n",
       " 'forces': tensor([[-1.9282e-01, -1.8793e+00, -6.6374e-01],\n",
       "         [-8.2543e-03, -2.0313e-01,  3.6808e-01],\n",
       "         [-5.5372e-01, -1.4736e+00,  1.2997e+00],\n",
       "         [ 4.5678e-01,  5.1175e-01, -1.0934e+00],\n",
       "         [-1.6499e+00, -1.6259e+00,  4.5255e-01],\n",
       "         [-1.6698e-01,  6.8080e-01,  6.7749e-01],\n",
       "         [ 3.6802e-02, -3.1423e+00, -2.0166e+00],\n",
       "         [-1.0730e-01, -3.5780e-01,  1.1357e+00],\n",
       "         [-1.9132e-01,  5.1381e-01,  3.4296e-01],\n",
       "         [ 2.0090e+00,  1.5143e+00, -3.5578e-01],\n",
       "         [-1.7128e-01, -2.7808e+00, -1.4215e+00],\n",
       "         [-9.3987e-01, -1.6757e-02,  7.9322e-01],\n",
       "         [ 3.7190e-01, -9.0627e-01, -5.2933e-01],\n",
       "         [ 5.6458e-01, -9.6833e-01, -7.0043e-01],\n",
       "         [-4.5756e-01, -6.5868e-02, -3.7038e-01],\n",
       "         [-1.2044e+00,  6.3979e-01,  7.5036e-01],\n",
       "         [-1.5743e+00,  6.4479e-02, -6.7272e-01],\n",
       "         [-9.8223e-01, -9.5903e-02, -8.7198e-01],\n",
       "         [ 4.9518e-01, -2.7982e-01, -4.6208e-01],\n",
       "         [ 3.3000e-01,  1.7643e-01,  2.0947e+00],\n",
       "         [ 3.3517e-01,  1.4522e+00,  3.6359e-01],\n",
       "         [-4.4930e-01, -3.1648e-01,  2.1246e-01],\n",
       "         [-5.8361e-01,  1.0337e+00, -1.0099e+00],\n",
       "         [ 1.4334e+00,  1.4563e+00,  4.8775e-01],\n",
       "         [-1.2193e+00, -1.8368e-01,  1.7678e-01],\n",
       "         [-1.8822e-02, -3.3724e-01,  5.0373e-01],\n",
       "         [ 9.7925e-01,  3.4629e-01,  2.7126e-01],\n",
       "         [ 1.3972e+00,  1.0313e-01,  2.1936e+00],\n",
       "         [ 1.4154e+00,  1.0657e+00,  5.6893e-01],\n",
       "         [-5.3909e-01,  6.2667e-01,  7.9585e-01],\n",
       "         [-8.0468e-02,  9.3723e-01, -1.7657e+00],\n",
       "         [ 6.4826e-01,  1.3950e-03, -1.1809e+00],\n",
       "         [ 1.7236e+00,  5.0571e-01,  2.0909e-01],\n",
       "         [-6.3469e-01,  3.2798e+00,  1.3690e+00],\n",
       "         [-2.8363e-01,  1.3372e+00, -3.8005e-01],\n",
       "         [-1.0848e+00, -5.7622e-01, -6.1141e-01],\n",
       "         [-1.8884e+00,  5.1697e-01, -1.0889e-01],\n",
       "         [-5.3894e-01,  2.1740e+00,  2.2013e+00],\n",
       "         [ 1.5727e+00, -9.5217e-01,  9.6934e-01],\n",
       "         [ 3.8191e-01,  3.4829e-01,  1.2664e+00],\n",
       "         [-1.1411e+00,  1.2328e+00,  1.2866e+00],\n",
       "         [ 1.1776e+00,  7.2366e-01, -1.5056e+00],\n",
       "         [-1.3455e+00, -4.8714e-01,  4.1776e-01],\n",
       "         [ 2.7808e-01, -1.4488e-01,  1.2792e+00],\n",
       "         [-2.0664e-01,  1.4243e+00,  1.2686e+00],\n",
       "         [ 1.3897e+00,  7.7333e-01, -8.4011e-01],\n",
       "         [-7.0459e-01, -2.1634e+00,  1.0630e+00],\n",
       "         [-9.9009e-01, -6.2214e-01, -9.4072e-03],\n",
       "         [ 3.3802e-01,  3.1611e-01,  1.3336e-01],\n",
       "         [-1.2308e+00, -2.7998e-01, -9.0719e-01],\n",
       "         [ 1.5169e+00, -6.4886e-01, -1.4431e+00],\n",
       "         [ 2.3966e+00,  1.3065e+00,  3.9503e-01],\n",
       "         [ 4.8711e-01,  2.6996e-03,  5.6954e-01],\n",
       "         [ 3.0038e-02,  9.8048e-01,  9.6736e-02],\n",
       "         [-2.8896e-01,  6.9839e-01,  1.1865e-01],\n",
       "         [-7.0303e-01,  1.5889e+00,  1.0517e+00],\n",
       "         [ 1.4835e+00, -7.5193e-01, -4.8107e-01],\n",
       "         [ 4.3507e-01, -7.6680e-01, -7.6512e-01],\n",
       "         [ 1.6324e+00, -9.0497e-01, -1.7391e-01],\n",
       "         [-7.7163e-01,  8.8480e-01, -1.0546e-01],\n",
       "         [ 1.5508e+00, -1.4519e-01, -6.3183e-01],\n",
       "         [ 1.4062e+00,  4.8017e-01,  2.4209e-01],\n",
       "         [-8.2076e-01, -1.1055e+00, -3.7652e-01],\n",
       "         [-1.7866e+00, -1.0725e-01, -7.5774e-01],\n",
       "         [ 6.6219e-01, -1.1061e+00,  6.6820e-01],\n",
       "         [ 4.5689e-01, -3.1297e-01,  5.2079e-01],\n",
       "         [-2.3750e-01,  1.6904e+00, -7.2430e-01],\n",
       "         [ 1.5449e+00,  1.4885e+00, -5.6164e-01],\n",
       "         [ 1.6403e+00, -1.3929e+00, -1.3473e-01],\n",
       "         [-5.0026e-01, -7.1965e-01, -6.3690e-01],\n",
       "         [ 1.8875e-01, -8.0416e-01,  1.0578e+00],\n",
       "         [ 7.4767e-01, -2.7263e-01,  1.0396e-01],\n",
       "         [ 1.0797e+00,  6.2834e-01, -1.0441e+00],\n",
       "         [-9.1592e-01, -1.0053e+00, -1.6651e-01],\n",
       "         [-2.4538e-01,  1.1315e+00, -2.5051e-01],\n",
       "         [-2.6349e-01, -3.9915e-01,  5.2209e-01],\n",
       "         [ 8.3324e-01,  2.9588e-02,  4.1156e-01],\n",
       "         [ 1.3736e-01,  5.2689e-01, -7.6983e-01],\n",
       "         [ 1.8699e+00, -5.6415e-01, -1.2089e+00],\n",
       "         [-8.2056e-01, -5.2394e-01, -1.0657e-01],\n",
       "         [-1.3969e-01, -2.1350e-01,  2.1012e-01],\n",
       "         [-8.5827e-01, -2.9145e-01, -8.8987e-02],\n",
       "         [-2.7861e-01, -6.4112e-01,  2.7514e-01],\n",
       "         [-7.0377e-01, -1.6119e-01, -1.6974e-02],\n",
       "         [-4.9227e-01, -5.5502e-01, -1.6419e+00],\n",
       "         [ 1.3265e+00,  5.1135e-01, -2.0431e-01],\n",
       "         [-6.3025e-01, -4.0777e-01, -7.4116e-01],\n",
       "         [-2.7982e+00, -8.6561e-01,  7.2870e-01],\n",
       "         [ 4.4176e-01, -6.1487e-01, -1.5266e+00],\n",
       "         [-8.2469e-01, -1.5254e+00,  2.2129e-01],\n",
       "         [-4.1837e-01,  4.5957e-01, -9.3009e-01],\n",
       "         [-1.3448e+00, -3.8741e-01,  5.7946e-01],\n",
       "         [-3.5803e-02, -4.9431e-01, -3.3611e-01],\n",
       "         [ 1.3890e+00, -2.3396e-01, -5.8913e-01],\n",
       "         [ 4.6561e-01, -1.6739e+00, -5.8580e-01],\n",
       "         [-5.4732e-02,  1.2076e+00, -6.2845e-01],\n",
       "         [-1.9202e+00,  2.6483e-01, -4.7163e-01],\n",
       "         [ 2.3382e-01, -1.9371e-01,  8.8642e-01],\n",
       "         [-5.4136e-02,  7.5257e-01, -7.5428e-01],\n",
       "         [-1.2954e+00, -8.2409e-01, -2.3798e-01],\n",
       "         [ 2.2413e-01, -5.5878e-02, -5.6709e-01],\n",
       "         [ 1.0508e+00,  4.7083e-01,  1.0494e+00],\n",
       "         [ 1.1418e+00,  3.9075e-01,  2.2798e-01],\n",
       "         [-1.6860e+00,  8.3186e-01,  7.9992e-01],\n",
       "         [-1.1271e+00,  7.7508e-02,  9.2828e-01],\n",
       "         [-1.0157e+00,  5.2795e-01, -1.9179e-01],\n",
       "         [ 4.6428e-01, -1.5829e-01,  7.1079e-01]]),\n",
       " 'stresses': tensor([[41.4064,  5.9450, -4.7715],\n",
       "         [ 5.9450, 41.1876,  1.0425],\n",
       "         [-4.7715,  1.0425, 51.0653]]),\n",
       " 'volume': tensor(1165.6177)}"
      ]
     },
     "execution_count": 16,
     "metadata": {},
     "output_type": "execute_result"
    }
   ],
   "source": [
    "dataset = nfflr.AtomsDataset(\"mlearn\", target=\"energy_and_forces\")\n",
    "atoms, target = dataset[0]\n",
    "target"
   ]
  },
  {
   "cell_type": "code",
   "execution_count": null,
   "metadata": {},
   "outputs": [],
   "source": []
  }
 ],
 "metadata": {
  "kernelspec": {
   "display_name": "nfflr",
   "language": "python",
   "name": "python3"
  },
  "language_info": {
   "codemirror_mode": {
    "name": "ipython",
    "version": 3
   },
   "file_extension": ".py",
   "mimetype": "text/x-python",
   "name": "python",
   "nbconvert_exporter": "python",
   "pygments_lexer": "ipython3",
   "version": "3.10.9"
  },
  "orig_nbformat": 4
 },
 "nbformat": 4,
 "nbformat_minor": 2
}
