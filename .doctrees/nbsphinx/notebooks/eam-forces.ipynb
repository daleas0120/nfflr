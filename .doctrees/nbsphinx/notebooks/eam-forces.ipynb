{
 "cells": [
  {
   "attachments": {},
   "cell_type": "markdown",
   "metadata": {},
   "source": [
    "## Checking autograd forces against analytical forces for Embedded Atom model\n",
    "This notebook compares the forces computed with automatic differentiation (with respect to bond vectors, not atom coordinates) against the analytical forces for the [Al99 Embedded Atom potential](https://www.ctcms.nist.gov/potentials/entry/1999--Mishin-Y-Farkas-D-Mehl-M-J-Papaconstantopoulos-D-A--Al/), as implemented by [ASE](https://wiki.fysik.dtu.dk/ase/ase/atoms.html).\n",
    "\n",
    "First, fetch the EAM potential data from interatomic potentials repository:"
   ]
  },
  {
   "cell_type": "code",
   "execution_count": 1,
   "metadata": {},
   "outputs": [
    {
     "name": "stdout",
     "output_type": "stream",
     "text": [
      "  % Total    % Received % Xferd  Average Speed   Time    Time     Time  Current\n",
      "                                 Dload  Upload   Total   Spent    Left  Speed\n",
      "100  762k  100  762k    0     0   181k      0  0:00:04  0:00:04 --:--:--  181k\n"
     ]
    }
   ],
   "source": [
    "!curl https://www.ctcms.nist.gov/potentials/Download/1999--Mishin-Y-Farkas-D-Mehl-M-J-Papaconstantopoulos-D-A--Al/2/Al99.eam.alloy -o Al99.eam.alloy"
   ]
  },
  {
   "attachments": {},
   "cell_type": "markdown",
   "metadata": {},
   "source": [
    "Gradient checking is best done in 64-bit floating point precision:"
   ]
  },
  {
   "cell_type": "code",
   "execution_count": 2,
   "metadata": {},
   "outputs": [],
   "source": [
    "from plum import activate_autoreload\n",
    "activate_autoreload()\n",
    "\n",
    "from pathlib import Path\n",
    "\n",
    "import torch\n",
    "from ase.calculators.eam import EAM\n",
    "from ase.build import bulk\n",
    "\n",
    "from nfflr.data import graph\n",
    "from nfflr.data.atoms import Atoms\n",
    "from nfflr.models.classical.eam import TorchEAM\n",
    "\n",
    "torch.set_default_dtype(torch.float64)"
   ]
  },
  {
   "attachments": {},
   "cell_type": "markdown",
   "metadata": {},
   "source": [
    "We set up a small FCC aluminum system and add a small amount of jitter to the atomic coordinates:"
   ]
  },
  {
   "cell_type": "code",
   "execution_count": 3,
   "metadata": {},
   "outputs": [],
   "source": [
    "# set up a small bulk Aluminum calculation\n",
    "a = 4.05  \n",
    "al_ase = bulk(\"Al\", \"fcc\", a) * [4, 4, 4]\n",
    "al_ase.rattle(stdev=0.05)\n",
    "al_ase.wrap()\n",
    "ase_eam = EAM(potential=\"Al99.eam.alloy\")\n",
    "al_ase.set_calculator(ase_eam)\n",
    "\n",
    "# set up pytorch version\n",
    "al = Atoms(al_ase.get_cell().array, al_ase.get_scaled_positions(), al_ase.numbers)\n",
    "torch_eam = TorchEAM(\"Al99.eam.alloy\", dtype=torch.float64)"
   ]
  },
  {
   "attachments": {},
   "cell_type": "markdown",
   "metadata": {},
   "source": [
    "The ASE implementation computes the forces using the analytical gradients of the EAM spline components, while the pytorch implementation uses automatic differentiation to compute the gradient of the energy with respect to the bond displacement vectors. A [sum reduction ](https://github.com/usnistgov/nfflr/blob/2026152caa6beab2fa0dcf066288223726e78215/nfflr/models/utils.py#L43-L51) is used to aggregate these into the force components on individual atoms.\n",
    "\n",
    "Both the energies and the force components on all the atoms match to within floating point precision:"
   ]
  },
  {
   "cell_type": "code",
   "execution_count": 4,
   "metadata": {},
   "outputs": [
    {
     "name": "stderr",
     "output_type": "stream",
     "text": [
      "/Users/bld/.pyenv/versions/3.10.9/envs/nfflr/lib/python3.10/site-packages/dgl/backend/pytorch/tensor.py:445: UserWarning: TypedStorage is deprecated. It will be removed in the future and UntypedStorage will be the only storage class. This should only matter to you if you are using storages directly.  To access UntypedStorage directly, use tensor.untyped_storage() instead of tensor.storage()\n",
      "  assert input.numel() == input.storage().size(), (\n"
     ]
    },
    {
     "name": "stdout",
     "output_type": "stream",
     "text": [
      "al_ase.get_potential_energy()=-214.15885773313198\n",
      "e_dgl.detach().item()=-214.15885773313158\n",
      "potential energy matches: True\n",
      "force components match? : True\n"
     ]
    }
   ],
   "source": [
    "# construct radius graph matching ASE cutoff\n",
    "g = graph.periodic_radius_graph(al, r=torch_eam.data.cutoff, dtype=torch.float64)\n",
    "\n",
    "# evaluate energies and forces with pytorch implementation\n",
    "e_dgl, force_dgl = torch_eam(g)\n",
    "e_dgl, force_dgl = e_dgl.detach(), force_dgl.detach()\n",
    "\n",
    "# evaluate energy and forces with ASE\n",
    "e_ase = al_ase.get_potential_energy()\n",
    "force_ase = al_ase.get_forces()\n",
    "\n",
    "print(f\"{al_ase.get_potential_energy()=}\")\n",
    "print(f\"{e_dgl.detach().item()=}\")\n",
    "print(f\"potential energy matches: {np.isclose(e_ase, e_dgl.item())}\")\n",
    "print(f\"force components match? : {np.isclose(force_ase, force_dgl).all()}\")"
   ]
  }
 ],
 "metadata": {
  "kernelspec": {
   "display_name": "nfflr",
   "language": "python",
   "name": "python3"
  },
  "language_info": {
   "codemirror_mode": {
    "name": "ipython",
    "version": 3
   },
   "file_extension": ".py",
   "mimetype": "text/x-python",
   "name": "python",
   "nbconvert_exporter": "python",
   "pygments_lexer": "ipython3",
   "version": "3.10.9"
  }
 },
 "nbformat": 4,
 "nbformat_minor": 2
}
