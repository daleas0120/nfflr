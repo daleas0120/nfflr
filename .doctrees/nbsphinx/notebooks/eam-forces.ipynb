{
 "cells": [
  {
   "attachments": {},
   "cell_type": "markdown",
   "metadata": {},
   "source": [
    "## Checking autograd forces against analytical forces for Embedded Atom model\n",
    "This notebook compares the forces computed with automatic differentiation (with respect to bond vectors, not atom coordinates) against the analytical forces for the [Al99 Embedded Atom potential](https://www.ctcms.nist.gov/potentials/entry/1999--Mishin-Y-Farkas-D-Mehl-M-J-Papaconstantopoulos-D-A--Al/), as implemented by [ASE](https://wiki.fysik.dtu.dk/ase/ase/atoms.html).\n",
    "\n",
    "First, fetch the EAM potential data from interatomic potentials repository:"
   ]
  },
  {
   "cell_type": "code",
   "execution_count": 1,
   "metadata": {},
   "outputs": [
    {
     "name": "stdout",
     "output_type": "stream",
     "text": [
      "  % Total    % Received % Xferd  Average Speed   Time    Time     Time  Current\n",
      "                                 Dload  Upload   Total   Spent    Left  Speed\n",
      "100  762k  100  762k    0     0   809k      0 --:--:-- --:--:-- --:--:--  811k\n"
     ]
    }
   ],
   "source": [
    "!curl https://www.ctcms.nist.gov/potentials/Download/1999--Mishin-Y-Farkas-D-Mehl-M-J-Papaconstantopoulos-D-A--Al/2/Al99.eam.alloy -o Al99.eam.alloy"
   ]
  },
  {
   "attachments": {},
   "cell_type": "markdown",
   "metadata": {},
   "source": [
    "Gradient checking is best done in 64-bit floating point precision:"
   ]
  },
  {
   "cell_type": "code",
   "execution_count": 2,
   "metadata": {},
   "outputs": [],
   "source": [
    "from plum import activate_autoreload\n",
    "activate_autoreload()\n",
    "\n",
    "from pathlib import Path\n",
    "\n",
    "import torch\n",
    "from ase.calculators.eam import EAM\n",
    "from ase.build import bulk\n",
    "\n",
    "from nfflr.data import graph\n",
    "from nfflr.data.atoms import Atoms\n",
    "from nfflr.models.classical.eam import TorchEAM\n",
    "\n",
    "torch.set_default_dtype(torch.float64)"
   ]
  },
  {
   "attachments": {},
   "cell_type": "markdown",
   "metadata": {},
   "source": [
    "We set up a small FCC aluminum system and add a small amount of jitter to the atomic coordinates:"
   ]
  },
  {
   "cell_type": "code",
   "execution_count": 3,
   "metadata": {},
   "outputs": [],
   "source": [
    "# set up a small bulk Aluminum calculation\n",
    "a = 4.05  \n",
    "al_ase = bulk(\"Al\", \"fcc\", a) * [4, 4, 4]\n",
    "al_ase.rattle(stdev=0.05)\n",
    "al_ase.wrap()\n",
    "ase_eam = EAM(potential=\"Al99.eam.alloy\")\n",
    "al_ase.set_calculator(ase_eam)\n",
    "\n",
    "# set up pytorch version\n",
    "al = Atoms(al_ase.get_cell().array, al_ase.get_scaled_positions(), al_ase.numbers)\n",
    "torch_eam = TorchEAM(\"Al99.eam.alloy\", dtype=torch.float64)"
   ]
  },
  {
   "attachments": {},
   "cell_type": "markdown",
   "metadata": {},
   "source": [
    "The ASE implementation computes the forces using the analytical gradients of the EAM spline components, while the pytorch implementation uses automatic differentiation to compute the gradient of the energy with respect to the bond displacement vectors. A [sum reduction ](https://github.com/usnistgov/nfflr/blob/2026152caa6beab2fa0dcf066288223726e78215/nfflr/models/utils.py#L43-L51) is used to aggregate these into the force components on individual atoms.\n",
    "\n",
    "Both the energies and the force components on all the atoms match to within floating point precision:"
   ]
  },
  {
   "cell_type": "code",
   "execution_count": 4,
   "metadata": {},
   "outputs": [
    {
     "name": "stderr",
     "output_type": "stream",
     "text": [
      "/Users/bld/.pyenv/versions/3.10.9/envs/nfflr/lib/python3.10/site-packages/dgl/backend/pytorch/tensor.py:445: UserWarning: TypedStorage is deprecated. It will be removed in the future and UntypedStorage will be the only storage class. This should only matter to you if you are using storages directly.  To access UntypedStorage directly, use tensor.untyped_storage() instead of tensor.storage()\n",
      "  assert input.numel() == input.storage().size(), (\n"
     ]
    },
    {
     "name": "stdout",
     "output_type": "stream",
     "text": [
      "al_ase.get_potential_energy()=-214.15885773313198\n",
      "e_dgl.detach().item()=-214.15885773313158\n",
      "potential energy matches: True\n",
      "force components match? : True\n"
     ]
    }
   ],
   "source": [
    "# construct radius graph matching ASE cutoff\n",
    "g = graph.periodic_radius_graph(al, r=torch_eam.data.cutoff, dtype=torch.float64)\n",
    "\n",
    "# evaluate energies and forces with pytorch implementation\n",
    "e_dgl, force_dgl = torch_eam(g)\n",
    "e_dgl, force_dgl = e_dgl.detach(), force_dgl.detach()\n",
    "\n",
    "# evaluate energy and forces with ASE\n",
    "e_ase = al_ase.get_potential_energy()\n",
    "force_ase = al_ase.get_forces()\n",
    "\n",
    "print(f\"{al_ase.get_potential_energy()=}\")\n",
    "print(f\"{e_dgl.detach().item()=}\")\n",
    "print(f\"potential energy matches: {np.isclose(e_ase, e_dgl.item())}\")\n",
    "print(f\"force components match? : {np.isclose(force_ase, force_dgl).all()}\")"
   ]
  },
  {
   "attachments": {},
   "cell_type": "markdown",
   "metadata": {},
   "source": [
    "## Tersoff potential\n",
    "This section performs the same diagnostic using the Tersoff potential, as implemented by LAMMPS.\n",
    "This demonstrates that forces computed by autograd with respect to relative position vectors reduce to the correct atomic forces.\n",
    "\n",
    "The parameters used correspond to https://www.ctcms.nist.gov/potentials/entry/1988--Tersoff-J--Si-b/:"
   ]
  },
  {
   "cell_type": "code",
   "execution_count": 5,
   "metadata": {},
   "outputs": [
    {
     "name": "stdout",
     "output_type": "stream",
     "text": [
      "  % Total    % Received % Xferd  Average Speed   Time    Time     Time  Current\n",
      "                                 Dload  Upload   Total   Spent    Left  Speed\n",
      "100   532  100   532    0     0   1299      0 --:--:-- --:--:-- --:--:--  1310\n",
      "# Parameters for the Tersoff Si(B) potential. CITATION: J. Tersoff, Phys. Rev. B 37, 6991 (1988)\n",
      "\n",
      "# Parameter values verified by Lucas Hale.\n",
      "# Identical values in Si.tersoff of August 22, 2018 LAMMPS distribution.\n",
      "# Identical values in openKIM model MO_245095684871_001 parameter file.\n",
      "\n",
      "# Values are in LAMMPS \"metal\" units.\n",
      "\n",
      "# e1 e2 e3 m   gamma lambda3 c      d      costheta0 n      beta    lambda2 B      R   D   lambda1 A\n",
      "  Si Si Si 3.0 1.0   1.3258  4.8381 2.0417 0.0       22.956 0.33675 1.3258  95.373 3.0 0.2 3.2394  3264.7"
     ]
    }
   ],
   "source": [
    "!curl https://www.ctcms.nist.gov/potentials/Download/1988--Tersoff-J--Si-b/1/1988_Si\\(B\\).tersoff -o Si.tersoff\n",
    "!cat Si.tersoff"
   ]
  },
  {
   "attachments": {},
   "cell_type": "markdown",
   "metadata": {},
   "source": [
    "The ASE LAMMPS calculator seems to still have issues parsing thermo data from lammps log files; \n",
    "we can work around that in the short term by monkey-patching `read_lammps_log` following the [discussion here](https://gitlab.com/ase/ase/-/issues/1096)."
   ]
  },
  {
   "cell_type": "code",
   "execution_count": 6,
   "metadata": {},
   "outputs": [],
   "source": [
    "import ase.io\n",
    "from ase.calculators.lammpsrun import LAMMPS\n",
    "\n",
    "from ase.parallel import paropen\n",
    "from re import compile as re_compile, IGNORECASE\n",
    "from ase.calculators.lammps import CALCULATION_END_MARK\n",
    "\n",
    "def read_lammps_log(self, lammps_log=None, thermo_args=None):\n",
    "    \"\"\"Monkey patched calc.read_lammps_log based on https://gitlab.com/ase/ase/-/issues/1096\n",
    "    \n",
    "    Method which reads a LAMMPS output log file.\n",
    "    \"\"\"\n",
    "\n",
    "    if thermo_args is None:\n",
    "        thermo_args = self.parameters.thermo_args\n",
    "\n",
    "    if lammps_log is None:\n",
    "        lammps_log = self.label + \".log\"\n",
    "\n",
    "    if isinstance(lammps_log, str):\n",
    "        fileobj = paropen(lammps_log, \"rb\")\n",
    "        close_log_file = True\n",
    "    else:\n",
    "        # Expect lammps_in to be a file-like object\n",
    "        fileobj = lammps_log\n",
    "        close_log_file = False\n",
    "\n",
    "    # read_log depends on that the first (three) thermo_style custom args\n",
    "    # can be capitalized and matched against the log output. I.e.\n",
    "    # don't use e.g. 'ke' or 'cpu' which are labeled KinEng and CPU.\n",
    "    # mark_re = r\"^\\s*\" + r\"\\s+\".join(\n",
    "    #     [x.capitalize() for x in thermo_args[0:3]]\n",
    "    # )\n",
    "    # _custom_thermo_mark = re_compile(mark_re)\n",
    "    mark_re = \"^\\s*\" + \"\\s*\".join(\n",
    "        [x.capitalize() for x in thermo_args[0:3]]\n",
    "    )\n",
    "    _custom_thermo_mark = re_compile(mark_re)\n",
    "\n",
    "    # !TODO: regex-magic necessary?\n",
    "    # Match something which can be converted to a float\n",
    "    f_re = r\"([+-]?(?:(?:\\d+(?:\\.\\d*)?|\\.\\d+)(?:e[+-]?\\d+)?|nan|inf))\"\n",
    "    n_args = len(thermo_args)\n",
    "    # Create a re matching exactly N white space separated floatish things\n",
    "    _custom_thermo_re = re_compile(\n",
    "        r\"^\\s*\" + r\"\\s+\".join([f_re] * n_args) + r\"\\s*$\", flags=IGNORECASE\n",
    "    )\n",
    "\n",
    "    thermo_content = []\n",
    "\n",
    "    line = fileobj.readline().decode(\"utf-8\")\n",
    "    while line and line.strip() != CALCULATION_END_MARK:\n",
    "        # check error\n",
    "        if 'ERROR:' in line:\n",
    "            if close_log_file:\n",
    "                fileobj.close()\n",
    "            raise RuntimeError(f'LAMMPS exits with error message: {line}')\n",
    "\n",
    "        # get thermo output\n",
    "        if _custom_thermo_mark.match(line):\n",
    "            bool_match = True\n",
    "            while bool_match:\n",
    "                line = fileobj.readline().decode(\"utf-8\")\n",
    "                bool_match = _custom_thermo_re.match(line)\n",
    "                if bool_match:\n",
    "                    # create a dictionary between each of the\n",
    "                    # thermo_style args and it's corresponding value\n",
    "                    thermo_content.append(\n",
    "                        dict(\n",
    "                            zip(\n",
    "                                thermo_args,\n",
    "                                map(float, bool_match.groups()),\n",
    "                            )\n",
    "                        )\n",
    "                    )\n",
    "        else:\n",
    "            line = fileobj.readline().decode(\"utf-8\")\n",
    "\n",
    "    if close_log_file:\n",
    "        fileobj.close()\n",
    "\n",
    "    self.thermo_content = thermo_content\n",
    "    # return thermo_content\n",
    "\n",
    "    \n",
    "# monkey patch the LAMMPS log parser\n",
    "LAMMPS.read_lammps_log = read_lammps_log "
   ]
  },
  {
   "attachments": {},
   "cell_type": "markdown",
   "metadata": {},
   "source": [
    "### Small silicon system\n",
    "Now, set up a small Si system and a LAMMPS calculator to serve as the reference Tersoff potential implementation:"
   ]
  },
  {
   "cell_type": "code",
   "execution_count": 7,
   "metadata": {},
   "outputs": [
    {
     "name": "stdout",
     "output_type": "stream",
     "text": [
      "e_lammps=-592.3985671491665\n",
      "f_lammps[:5]=array([[-0.20522987, -0.26851818,  0.14179856],\n",
      "       [ 0.06219078,  0.05221548,  0.0728464 ],\n",
      "       [ 0.03842853, -0.02849059,  0.04544221],\n",
      "       [-0.21198316,  0.12308603, -0.00683117],\n",
      "       [ 0.5269759 , -0.12608296,  0.29867076]])\n"
     ]
    }
   ],
   "source": [
    "# set up a small Si example crystal\n",
    "si_ase = bulk(\"Si\", \"diamond\", 5.43) * [4, 4, 4]\n",
    "si_ase.rattle(stdev=0.01, seed=36)\n",
    "si_ase.wrap()\n",
    "\n",
    "# configure LAMMPS Tersoff potential\n",
    "calc = LAMMPS()\n",
    "calc.parameters[\"command\"] = \"/opt/homebrew/bin/lmp_serial\"\n",
    "calc.parameters[\"files\"] = [\"Si.tersoff\"]\n",
    "calc.parameters[\"binary_dump\"] = False\n",
    "calc.parameters.update(\n",
    "    {\"pair_style\": \"tersoff\", \"pair_coeff\": [\"* * Si.tersoff Si\"]}\n",
    "    )\n",
    "si_ase.set_calculator(calc)\n",
    "\n",
    "# calculate Tersoff energy and forces with LAMMPS\n",
    "e_lammps = si_ase.get_potential_energy()\n",
    "f_lammps = si_ase.get_forces()\n",
    "\n",
    "print(f\"{e_lammps=}\")\n",
    "print(f\"{f_lammps[:5]=}\")"
   ]
  },
  {
   "attachments": {},
   "cell_type": "markdown",
   "metadata": {},
   "source": [
    "And "
   ]
  },
  {
   "cell_type": "code",
   "execution_count": 8,
   "metadata": {},
   "outputs": [
    {
     "name": "stdout",
     "output_type": "stream",
     "text": [
      "e_tersoff=tensor(-592.3986)\n",
      "f_tersoff[:5]=tensor([[-0.2052, -0.2685,  0.1418],\n",
      "        [ 0.0622,  0.0522,  0.0728],\n",
      "        [ 0.0384, -0.0285,  0.0454],\n",
      "        [-0.2120,  0.1231, -0.0068],\n",
      "        [ 0.5270, -0.1261,  0.2987]])\n"
     ]
    }
   ],
   "source": [
    "from nfflr.models.classical.tersoff import TersoffConfig, Tersoff\n",
    "g = graph.periodic_radius_graph(Atoms(si_ase), r=3.5, dtype=torch.float64)\n",
    "tersoff = Tersoff()\n",
    "out = tersoff(g)\n",
    "e_tersoff = out[\"total_energy\"].detach()\n",
    "f_tersoff = out[\"forces\"].detach()\n",
    "\n",
    "print(f\"{e_tersoff=}\")\n",
    "print(f\"{f_tersoff[:5]=}\")\n"
   ]
  },
  {
   "attachments": {},
   "cell_type": "markdown",
   "metadata": {},
   "source": [
    "The total energies match to within numerical precision:"
   ]
  },
  {
   "cell_type": "code",
   "execution_count": 9,
   "metadata": {},
   "outputs": [
    {
     "data": {
      "text/plain": [
       "True"
      ]
     },
     "execution_count": 9,
     "metadata": {},
     "output_type": "execute_result"
    }
   ],
   "source": [
    "np.isclose(e_tersoff, e_lammps)"
   ]
  },
  {
   "attachments": {},
   "cell_type": "markdown",
   "metadata": {},
   "source": [
    "And so do the forces (using the numerical precision settings used by [torch.autograd.gradcheck](https://pytorch.org/docs/stable/generated/torch.autograd.gradcheck.html):"
   ]
  },
  {
   "cell_type": "code",
   "execution_count": 10,
   "metadata": {},
   "outputs": [
    {
     "data": {
      "text/plain": [
       "True"
      ]
     },
     "execution_count": 10,
     "metadata": {},
     "output_type": "execute_result"
    }
   ],
   "source": [
    "np.isclose(f_lammps, f_tersoff, atol=1e-05, rtol=0.001).all()"
   ]
  },
  {
   "attachments": {},
   "cell_type": "markdown",
   "metadata": {},
   "source": [
    "The largest force component discrepancy is about $7 \\times 10^{-7} \\; eV/\\mathrm{\\AA}$"
   ]
  },
  {
   "cell_type": "code",
   "execution_count": 11,
   "metadata": {},
   "outputs": [
    {
     "data": {
      "text/plain": [
       "6.749736085540081e-07"
      ]
     },
     "execution_count": 11,
     "metadata": {},
     "output_type": "execute_result"
    }
   ],
   "source": [
    "(f_lammps - f_tersoff.numpy()).max()"
   ]
  },
  {
   "cell_type": "code",
   "execution_count": null,
   "metadata": {},
   "outputs": [],
   "source": []
  }
 ],
 "metadata": {
  "kernelspec": {
   "display_name": "nfflr",
   "language": "python",
   "name": "python3"
  },
  "language_info": {
   "codemirror_mode": {
    "name": "ipython",
    "version": 3
   },
   "file_extension": ".py",
   "mimetype": "text/x-python",
   "name": "python",
   "nbconvert_exporter": "python",
   "pygments_lexer": "ipython3",
   "version": "3.10.9"
  }
 },
 "nbformat": 4,
 "nbformat_minor": 2
}
