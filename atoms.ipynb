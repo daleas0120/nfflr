{
 "cells": [
  {
   "attachments": {},
   "cell_type": "markdown",
   "metadata": {},
   "source": [
    "## Atoms"
   ]
  },
  {
   "cell_type": "code",
   "execution_count": 1,
   "metadata": {},
   "outputs": [
    {
     "data": {
      "text/plain": [
       "Atoms(lattice=tensor([[4.1000, 0.0000, 0.0000],\n",
       "        [0.0000, 4.1000, 0.0000],\n",
       "        [0.0000, 0.0000, 4.1000]]), positions=tensor([[0.0000, 0.0000, 0.0000],\n",
       "        [0.5000, 0.5000, 0.5000]]), numbers=tensor([24, 22]), _batch_num_atoms=None)"
      ]
     },
     "execution_count": 1,
     "metadata": {},
     "output_type": "execute_result"
    }
   ],
   "source": [
    "import torch\n",
    "from nfflr.data.atoms import Atoms\n",
    "\n",
    "lattice = 4.1 * torch.eye(3)\n",
    "positions = torch.tensor([[0,0,0], [0.5, 0.5, 0.5]])\n",
    "numbers = torch.tensor([24, 22])\n",
    "atoms = Atoms(lattice, positions, numbers)\n",
    "atoms"
   ]
  },
  {
   "cell_type": "code",
   "execution_count": 2,
   "metadata": {},
   "outputs": [
    {
     "data": {
      "image/png": "[encoded data removed]",
      "text/plain": [
       "<Figure size 300x300 with 1 Axes>"
      ]
     },
     "metadata": {},
     "output_type": "display_data"
    }
   ],
   "source": [
    "from ase import Atoms as AseAtoms\n",
    "from ase.data.colors import jmol_colors\n",
    "from ase.visualize.plot import plot_atoms\n",
    "\n",
    "import matplotlib.pyplot as plt\n",
    "%matplotlib inline\n",
    "\n",
    "fig, ax = plt.subplots(figsize=(3,3))\n",
    "ase_atoms = AseAtoms(scaled_positions=positions, numbers=numbers, cell=lattice)\n",
    "plot_atoms(ase_atoms, ax, radii=0.3, rotation=(\"10x,20y,0z\"), show_unit_cell=2)\n",
    "ax.axis(\"off\");\n"
   ]
  },
  {
   "cell_type": "code",
   "execution_count": null,
   "metadata": {},
   "outputs": [],
   "source": []
  }
 ],
 "metadata": {
  "kernelspec": {
   "display_name": "nfflr",
   "language": "python",
   "name": "python3"
  },
  "language_info": {
   "codemirror_mode": {
    "name": "ipython",
    "version": 3
   },
   "file_extension": ".py",
   "mimetype": "text/x-python",
   "name": "python",
   "nbconvert_exporter": "python",
   "pygments_lexer": "ipython3",
   "version": "3.10.9"
  }
 },
 "nbformat": 4,
 "nbformat_minor": 2
}
