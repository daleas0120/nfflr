{
 "cells": [
  {
   "attachments": {},
   "cell_type": "markdown",
   "metadata": {},
   "source": [
    "## Check autograd forces against analytical forces\n",
    "This notebook compares the forces computed with automatic differentiation (with respect to bond vectors, not atom coordinates) against the analytical forces for the [Al99 Embedded Atom potential](https://www.ctcms.nist.gov/potentials/entry/1999--Mishin-Y-Farkas-D-Mehl-M-J-Papaconstantopoulos-D-A--Al/), as implemented by [ASE](https://wiki.fysik.dtu.dk/ase/ase/atoms.html).\n",
    "\n",
    "First, fetch the EAM potential data from interatomic potentials repository:"
   ]
  },
  {
   "cell_type": "code",
   "execution_count": 1,
   "metadata": {},
   "outputs": [
    {
     "name": "stdout",
     "output_type": "stream",
     "text": [
      "  % Total    % Received % Xferd  Average Speed   Time    Time     Time  Current\n",
      "                                 Dload  Upload   Total   Spent    Left  Speed\n",
      "100  762k  100  762k    0     0   467k      0  0:00:01  0:00:01 --:--:--  467k\n"
     ]
    }
   ],
   "source": [
    "!curl https://www.ctcms.nist.gov/potentials/Download/1999--Mishin-Y-Farkas-D-Mehl-M-J-Papaconstantopoulos-D-A--Al/2/Al99.eam.alloy -o Al99.eam.alloy"
   ]
  },
  {
   "attachments": {},
   "cell_type": "markdown",
   "metadata": {},
   "source": [
    "Gradient checking is best done in 64-bit floating point precision:"
   ]
  },
  {
   "cell_type": "code",
   "execution_count": 7,
   "metadata": {},
   "outputs": [],
   "source": [
    "from pathlib import Path\n",
    "\n",
    "import torch\n",
    "\n",
    "import ase.io\n",
    "from ase.build import bulk\n",
    "from ase.calculators.eam import EAM\n",
    "from ase.calculators.lammpsrun import LAMMPS\n",
    "\n",
    "import nfflr\n",
    "from nfflr.data import graph\n",
    "from nfflr.models.classical.eam import TorchEAM\n",
    "\n",
    "torch.set_default_dtype(torch.float64)"
   ]
  },
  {
   "attachments": {},
   "cell_type": "markdown",
   "metadata": {},
   "source": [
    "We set up a small FCC aluminum system and add a small amount of jitter to the atomic coordinates:"
   ]
  },
  {
   "cell_type": "code",
   "execution_count": 2,
   "metadata": {},
   "outputs": [
    {
     "name": "stderr",
     "output_type": "stream",
     "text": [
      "/var/folders/p4/50p5qpjx0snc7sqp9sp7qd1r001tvs/T/ipykernel_66668/2909281923.py:7: DeprecationWarning: Please use atoms.calc = calc\n",
      "  atoms.set_calculator(ase_eam)\n"
     ]
    }
   ],
   "source": [
    "# set up a small bulk Aluminum calculation\n",
    "a = 4.05  \n",
    "atoms = bulk(\"Al\", \"fcc\", a) * [4, 4, 4]\n",
    "atoms.rattle(stdev=0.05)\n",
    "atoms.wrap()\n",
    "ase_eam = EAM(potential=\"Al99.eam.alloy\")\n",
    "atoms.set_calculator(ase_eam)\n",
    "\n",
    "# set up pytorch version\n",
    "# al = nfflr.Atoms(al_ase.get_cell().array, al_ase.get_positions(), al_ase.numbers)\n"
   ]
  },
  {
   "attachments": {},
   "cell_type": "markdown",
   "metadata": {},
   "source": [
    "The ASE implementation computes the forces using the analytical gradients of the EAM spline components, while the pytorch implementation uses automatic differentiation to compute the gradient of the energy with respect to the bond displacement vectors. A [sum reduction ](https://github.com/usnistgov/nfflr/blob/2026152caa6beab2fa0dcf066288223726e78215/nfflr/models/utils.py#L43-L51) is used to aggregate these into the force components on individual atoms.\n",
    "\n",
    "Both the energies and the force components on all the atoms match to within floating point precision:"
   ]
  },
  {
   "cell_type": "code",
   "execution_count": 6,
   "metadata": {},
   "outputs": [
    {
     "name": "stdout",
     "output_type": "stream",
     "text": [
      "atoms.get_potential_energy()=-214.15885773313198\n",
      "e_dgl.detach().item()=-214.15885773313158\n",
      "potential energy matches: True\n",
      "force components match? : True\n"
     ]
    },
    {
     "name": "stderr",
     "output_type": "stream",
     "text": [
      "/Users/bld/.pyenv/versions/3.10.9/envs/nfflr/lib/python3.10/site-packages/dgl/backend/pytorch/tensor.py:445: UserWarning: TypedStorage is deprecated. It will be removed in the future and UntypedStorage will be the only storage class. This should only matter to you if you are using storages directly.  To access UntypedStorage directly, use tensor.untyped_storage() instead of tensor.storage()\n",
      "  assert input.numel() == input.storage().size(), (\n"
     ]
    }
   ],
   "source": [
    "torch_eam = TorchEAM(\"Al99.eam.alloy\", dtype=torch.float64)\n",
    "\n",
    "# construct radius graph matching ASE cutoff\n",
    "g = graph.periodic_radius_graph(nfflr.Atoms(atoms), r=torch_eam.data.cutoff, dtype=torch.float64)\n",
    "\n",
    "# evaluate energies and forces with pytorch implementation\n",
    "out_nff = torch_eam(g)\n",
    "e_dgl, force_dgl = out_nff[\"energy\"].detach(), out_nff[\"forces\"].detach()\n",
    "\n",
    "# evaluate energy and forces with ASE\n",
    "e_ase = atoms.get_potential_energy()\n",
    "force_ase = atoms.get_forces()\n",
    "\n",
    "print(f\"{atoms.get_potential_energy()=}\")\n",
    "print(f\"{e_dgl.detach().item()=}\")\n",
    "print(f\"potential energy matches: {np.isclose(e_ase, e_dgl.item())}\")\n",
    "print(f\"force components match? : {np.isclose(force_ase, force_dgl).all()}\")"
   ]
  },
  {
   "attachments": {},
   "cell_type": "markdown",
   "metadata": {},
   "source": [
    "## Tersoff potential\n",
    "This section performs the same diagnostic using the Tersoff potential, as implemented by LAMMPS.\n",
    "This demonstrates that forces computed by autograd with respect to relative position vectors reduce to the correct atomic forces.\n",
    "\n",
    "The parameters used correspond to https://www.ctcms.nist.gov/potentials/entry/1988--Tersoff-J--Si-b/:"
   ]
  },
  {
   "cell_type": "code",
   "execution_count": 9,
   "metadata": {},
   "outputs": [
    {
     "name": "stdout",
     "output_type": "stream",
     "text": [
      "  % Total    % Received % Xferd  Average Speed   Time    Time     Time  Current\n",
      "                                 Dload  Upload   Total   Spent    Left  Speed\n",
      "100   532  100   532    0     0     49      0  0:00:10  0:00:10 --:--:--   143 0 --:--:--  0:00:02 --:--:--     0     0 --:--:--  0:00:03 --:--:--     0\n",
      "# Parameters for the Tersoff Si(B) potential. CITATION: J. Tersoff, Phys. Rev. B 37, 6991 (1988)\n",
      "\n",
      "# Parameter values verified by Lucas Hale.\n",
      "# Identical values in Si.tersoff of August 22, 2018 LAMMPS distribution.\n",
      "# Identical values in openKIM model MO_245095684871_001 parameter file.\n",
      "\n",
      "# Values are in LAMMPS \"metal\" units.\n",
      "\n",
      "# e1 e2 e3 m   gamma lambda3 c      d      costheta0 n      beta    lambda2 B      R   D   lambda1 A\n",
      "  Si Si Si 3.0 1.0   1.3258  4.8381 2.0417 0.0       22.956 0.33675 1.3258  95.373 3.0 0.2 3.2394  3264.7"
     ]
    }
   ],
   "source": [
    "!curl https://www.ctcms.nist.gov/potentials/Download/1988--Tersoff-J--Si-b/1/1988_Si\\(B\\).tersoff -o Si.tersoff\n",
    "!cat Si.tersoff"
   ]
  },
  {
   "attachments": {},
   "cell_type": "markdown",
   "metadata": {},
   "source": [
    "### Small silicon system\n",
    "Now, set up a small Si system and a LAMMPS calculator to serve as the reference Tersoff potential implementation:"
   ]
  },
  {
   "cell_type": "code",
   "execution_count": 8,
   "metadata": {},
   "outputs": [
    {
     "name": "stdout",
     "output_type": "stream",
     "text": [
      "e_lammps=-592.3985671491682\n",
      "f_lammps[:5]=array([[-0.20522987, -0.26851818,  0.14179856],\n",
      "       [ 0.06219078,  0.05221548,  0.0728464 ],\n",
      "       [ 0.03842853, -0.02849059,  0.04544221],\n",
      "       [-0.21198316,  0.12308603, -0.00683117],\n",
      "       [ 0.5269759 , -0.12608296,  0.29867076]])\n"
     ]
    },
    {
     "name": "stderr",
     "output_type": "stream",
     "text": [
      "/var/folders/p4/50p5qpjx0snc7sqp9sp7qd1r001tvs/T/ipykernel_66668/4189360319.py:14: DeprecationWarning: Please use atoms.calc = calc\n",
      "  si_ase.set_calculator(calc)\n"
     ]
    }
   ],
   "source": [
    "# set up a small Si example crystal\n",
    "si_ase = bulk(\"Si\", \"diamond\", 5.43) * [4, 4, 4]\n",
    "si_ase.rattle(stdev=0.01, seed=36)\n",
    "si_ase.wrap()\n",
    "\n",
    "# configure LAMMPS Tersoff potential\n",
    "calc = LAMMPS()\n",
    "calc.parameters[\"command\"] = \"/opt/homebrew/bin/lmp_serial\"\n",
    "calc.parameters[\"files\"] = [\"Si.tersoff\"]\n",
    "calc.parameters[\"binary_dump\"] = False\n",
    "calc.parameters.update(\n",
    "    {\"pair_style\": \"tersoff\", \"pair_coeff\": [\"* * Si.tersoff Si\"]}\n",
    "    )\n",
    "si_ase.set_calculator(calc)\n",
    "\n",
    "# calculate Tersoff energy and forces with LAMMPS\n",
    "e_lammps = si_ase.get_potential_energy()\n",
    "f_lammps = si_ase.get_forces()\n",
    "\n",
    "print(f\"{e_lammps=}\")\n",
    "print(f\"{f_lammps[:5]=}\")"
   ]
  },
  {
   "attachments": {},
   "cell_type": "markdown",
   "metadata": {},
   "source": [
    "And "
   ]
  },
  {
   "cell_type": "code",
   "execution_count": 11,
   "metadata": {},
   "outputs": [
    {
     "name": "stdout",
     "output_type": "stream",
     "text": [
      "e_tersoff=tensor(-592.3986)\n",
      "f_tersoff[:5]=tensor([[-0.2052, -0.2685,  0.1418],\n",
      "        [ 0.0622,  0.0522,  0.0728],\n",
      "        [ 0.0384, -0.0285,  0.0454],\n",
      "        [-0.2120,  0.1231, -0.0068],\n",
      "        [ 0.5270, -0.1261,  0.2987]])\n",
      "stress_tersoff=tensor([[[-6.5235e-04,  1.6092e-03,  4.2400e-04],\n",
      "         [ 1.6092e-03, -6.5744e-04,  2.0972e-06],\n",
      "         [ 4.2400e-04,  2.0972e-06, -6.4832e-04]]])\n"
     ]
    }
   ],
   "source": [
    "g = graph.periodic_radius_graph(nfflr.Atoms(si_ase), r=3.5, dtype=torch.float64)\n",
    "tersoff = nfflr.models.Tersoff()\n",
    "out = tersoff(g)\n",
    "e_tersoff = out[\"energy\"].detach()\n",
    "f_tersoff = out[\"forces\"].detach()\n",
    "stress_tersoff = -out[\"virial\"].detach() / si_ase.get_volume()\n",
    "\n",
    "print(f\"{e_tersoff=}\")\n",
    "print(f\"{f_tersoff[:5]=}\")\n",
    "print(f\"{stress_tersoff=}\")\n"
   ]
  },
  {
   "attachments": {},
   "cell_type": "markdown",
   "metadata": {},
   "source": [
    "The total energies match to within numerical precision:"
   ]
  },
  {
   "cell_type": "code",
   "execution_count": 12,
   "metadata": {},
   "outputs": [
    {
     "data": {
      "text/plain": [
       "True"
      ]
     },
     "execution_count": 12,
     "metadata": {},
     "output_type": "execute_result"
    }
   ],
   "source": [
    "np.isclose(e_tersoff, e_lammps)"
   ]
  },
  {
   "attachments": {},
   "cell_type": "markdown",
   "metadata": {},
   "source": [
    "And so do the forces (using the numerical precision settings used by [torch.autograd.gradcheck](https://pytorch.org/docs/stable/generated/torch.autograd.gradcheck.html):"
   ]
  },
  {
   "cell_type": "code",
   "execution_count": 13,
   "metadata": {},
   "outputs": [
    {
     "data": {
      "text/plain": [
       "True"
      ]
     },
     "execution_count": 13,
     "metadata": {},
     "output_type": "execute_result"
    }
   ],
   "source": [
    "np.isclose(f_lammps, f_tersoff, atol=1e-05, rtol=0.001).all()"
   ]
  },
  {
   "attachments": {},
   "cell_type": "markdown",
   "metadata": {},
   "source": [
    "The largest force component discrepancy is about $7 \\times 10^{-7} \\; eV/\\mathrm{\\AA}$"
   ]
  },
  {
   "cell_type": "code",
   "execution_count": 14,
   "metadata": {},
   "outputs": [
    {
     "data": {
      "text/plain": [
       "6.749736075409296e-07"
      ]
     },
     "execution_count": 14,
     "metadata": {},
     "output_type": "execute_result"
    }
   ],
   "source": [
    "(f_lammps - f_tersoff.numpy()).max()"
   ]
  },
  {
   "attachments": {},
   "cell_type": "markdown",
   "metadata": {},
   "source": [
    "And the stress tensor values also match:"
   ]
  },
  {
   "cell_type": "code",
   "execution_count": 15,
   "metadata": {},
   "outputs": [
    {
     "data": {
      "text/plain": [
       "array([-6.52352915e-04, -6.57444097e-04, -6.48324331e-04,  2.09715783e-06,\n",
       "        4.23995521e-04,  1.60922348e-03])"
      ]
     },
     "execution_count": 15,
     "metadata": {},
     "output_type": "execute_result"
    }
   ],
   "source": [
    "si_ase.get_stress()"
   ]
  },
  {
   "cell_type": "code",
   "execution_count": 16,
   "metadata": {},
   "outputs": [
    {
     "data": {
      "text/plain": [
       "array([[[ True,  True,  True],\n",
       "        [ True,  True,  True],\n",
       "        [ True,  True,  True]]])"
      ]
     },
     "execution_count": 16,
     "metadata": {},
     "output_type": "execute_result"
    }
   ],
   "source": [
    "np.isclose(\n",
    "    stress_tersoff, \n",
    "    ase.stress.voigt_6_to_full_3x3_stress(si_ase.get_stress())\n",
    ")"
   ]
  },
  {
   "cell_type": "code",
   "execution_count": null,
   "metadata": {},
   "outputs": [],
   "source": []
  }
 ],
 "metadata": {
  "kernelspec": {
   "display_name": "nfflr",
   "language": "python",
   "name": "python3"
  },
  "language_info": {
   "codemirror_mode": {
    "name": "ipython",
    "version": 3
   },
   "file_extension": ".py",
   "mimetype": "text/x-python",
   "name": "python",
   "nbconvert_exporter": "python",
   "pygments_lexer": "ipython3",
   "version": "3.10.9"
  },
  "orig_nbformat": 4
 },
 "nbformat": 4,
 "nbformat_minor": 2
}
